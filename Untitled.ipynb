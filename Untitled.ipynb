{
 "cells": [
  {
   "cell_type": "code",
   "execution_count": null,
   "metadata": {},
   "outputs": [
    {
     "name": "stdout",
     "output_type": "stream",
     "text": [
      "(1024, 224, 224, 3)\n",
      "(1024, 10)\n",
      "<class 'tensorflow.python.framework.ops.EagerTensor'>\n",
      "<class 'tensorflow.python.framework.ops.EagerTensor'>\n",
      "10\n",
      "Epoch 1/10\n"
     ]
    }
   ],
   "source": [
    "import tensorflow as tf\n",
    "import glob\n",
    "import os\n",
    "\n",
    "# tf.config.experimental_run_functions_eagerly(True)\n",
    "\n",
    "\n",
    "class TFrecordDataLoader:\n",
    "    def __init__(self, datadir, batch_size=1024, buffer_size=1000):\n",
    "        self.datadir = datadir\n",
    "        self.NUM_CLASSES = len(os.listdir(datadir))\n",
    "        self.tfrecords = glob.glob(f\"{datadir}/*/*.tfrecord\")\n",
    "        self.label_map = self.create_label_map()\n",
    "        self.batch_size = batch_size\n",
    "        self.buffer_size = buffer_size\n",
    "\n",
    "    def create_label_map(self):\n",
    "        barcodes = os.listdir(self.datadir)\n",
    "        label_map = {barcode: index for index,\n",
    "                     barcode in enumerate(barcodes, 1)}\n",
    "        return label_map\n",
    "\n",
    "    def parse_tfrecord_fn(self, example):\n",
    "        feature_description = {\n",
    "            'image/height': tf.io.FixedLenFeature([], tf.int64),\n",
    "            'image/width': tf.io.FixedLenFeature([], tf.int64),\n",
    "            'image/channels': tf.io.FixedLenFeature([], tf.int64),\n",
    "            'image/colorspace': tf.io.FixedLenFeature([], tf.string),\n",
    "            'image/class/text': tf.io.FixedLenFeature([], tf.string),\n",
    "            'image/format': tf.io.FixedLenFeature([], tf.string),\n",
    "            'image/filename': tf.io.FixedLenFeature([], tf.string),\n",
    "            'image/encoded': tf.io.FixedLenFeature([], tf.string),\n",
    "            # Add more features as needed, specify their types and shapes\n",
    "        }\n",
    "        example = tf.io.parse_single_example(example, feature_description)\n",
    "        return example\n",
    "\n",
    "    def parse_label(self, barcode):\n",
    "        label = self.label_map[barcode.numpy().decode('utf-8')]\n",
    "        return tf.one_hot(label, self.NUM_CLASSES)\n",
    "\n",
    "\n",
    "    def parse_example(self, example):\n",
    "        image = example['image/encoded']\n",
    "        image = tf.image.decode_jpeg(image, channels=3)\n",
    "        image = tf.image.resize(image, (224, 224))  \n",
    "        image = tf.cast(image, tf.float32) / 255.0\n",
    "        label = tf.py_function(\n",
    "            self.parse_label, [example['image/class/text']], tf.float32)\n",
    "        return image, label\n",
    "\n",
    "    def load_dataset(self):\n",
    "        dataset = tf.data.TFRecordDataset(self.tfrecords)\n",
    "        dataset = dataset.map(self.parse_tfrecord_fn,\n",
    "                              num_parallel_calls=tf.data.experimental.AUTOTUNE)\n",
    "        dataset = dataset.map(self.parse_example,\n",
    "                              num_parallel_calls=tf.data.experimental.AUTOTUNE)\n",
    "        dataset = dataset.shuffle(buffer_size=self.buffer_size)\n",
    "        dataset = dataset.batch(self.batch_size)\n",
    "        dataset = dataset.prefetch(buffer_size=tf.data.experimental.AUTOTUNE)\n",
    "        return dataset\n",
    "\n",
    "\n",
    "src_dir = \"/data/tfrecord\"\n",
    "dataloader = TFrecordDataLoader(src_dir)\n",
    "dataset = dataloader.load_dataset()\n",
    "\n",
    "for images, labels in dataset:\n",
    "    print(images.shape)\n",
    "    print(labels.shape)\n",
    "    print(type(images))\n",
    "    print(type(labels))\n",
    "    break\n",
    "\n",
    "\n",
    "IMG_SHAPE = (224, 224, 3)\n",
    "NUM_CLASSES = 10\n",
    "print(NUM_CLASSES)\n",
    "\n",
    "base_model = tf.keras.applications.MobileNet(input_shape=IMG_SHAPE,\n",
    "                                            include_top=False,\n",
    "                                            weights='imagenet')\n",
    "#     base_model.trainable = False\n",
    "model = tf.keras.Sequential([\n",
    "    base_model,\n",
    "    tf.keras.layers.Flatten(),\n",
    "    tf.keras.layers.Dense(units=1024, activation='relu'),\n",
    "    tf.keras.layers.Dense(units=512, activation='relu'),\n",
    "    tf.keras.layers.Dense(units=NUM_CLASSES, activation='softmax')\n",
    "])\n",
    "\n",
    "model.compile(\n",
    "    optimizer='adam',\n",
    "    loss='categorical_crossentropy',\n",
    "    metrics=['accuracy'])\n",
    "\n",
    "model.fit(dataset, epochs=10)\n"
   ]
  },
  {
   "cell_type": "code",
   "execution_count": 3,
   "metadata": {},
   "outputs": [
    {
     "name": "stdout",
     "output_type": "stream",
     "text": [
      "WARNING:tensorflow:There are non-GPU devices in `tf.distribute.Strategy`, not using nccl allreduce.\n",
      "INFO:tensorflow:Using MirroredStrategy with devices ('/job:localhost/replica:0/task:0/device:CPU:0',)\n",
      "Number of devices: 1\n"
     ]
    }
   ],
   "source": [
    "strategy = tf.distribute.MirroredStrategy()\n",
    "print('Number of devices: {}'.format(strategy.num_replicas_in_sync))"
   ]
  },
  {
   "cell_type": "code",
   "execution_count": null,
   "metadata": {},
   "outputs": [],
   "source": []
  }
 ],
 "metadata": {
  "kernelspec": {
   "display_name": "Python 3",
   "language": "python",
   "name": "python3"
  },
  "language_info": {
   "codemirror_mode": {
    "name": "ipython",
    "version": 3
   },
   "file_extension": ".py",
   "mimetype": "text/x-python",
   "name": "python",
   "nbconvert_exporter": "python",
   "pygments_lexer": "ipython3",
   "version": "3.6.9"
  }
 },
 "nbformat": 4,
 "nbformat_minor": 4
}
