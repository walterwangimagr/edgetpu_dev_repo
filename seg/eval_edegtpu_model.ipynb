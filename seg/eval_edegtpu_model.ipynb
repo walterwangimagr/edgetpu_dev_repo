{
 "cells": [
  {
   "cell_type": "code",
   "execution_count": 37,
   "metadata": {},
   "outputs": [],
   "source": [
    "from pycoral.utils import edgetpu\n",
    "from pycoral.adapters import common\n",
    "from PIL import Image\n",
    "import numpy as np\n",
    "import time\n",
    "import os \n",
    "import re\n",
    "import glob \n",
    "import tensorflow as tf\n",
    "import time "
   ]
  },
  {
   "cell_type": "code",
   "execution_count": 13,
   "metadata": {},
   "outputs": [],
   "source": [
    "def prepare_input_img(img_path, img_w=128, img_h=128):\n",
    "    img = tf.io.read_file(img_path)\n",
    "    img = tf.image.decode_image(img, channels=3, dtype=tf.float32)\n",
    "    resize_img = tf.image.resize_with_pad(img, target_height=img_h, target_width=img_w, method='bilinear')\n",
    "    input_img = tf.expand_dims(resize_img, axis=0)\n",
    "    return input_img"
   ]
  },
  {
   "cell_type": "code",
   "execution_count": 14,
   "metadata": {},
   "outputs": [],
   "source": [
    "def quantized_input(input_tensor, input_scale, input_zero_point):\n",
    "    return tf.cast((input_tensor / input_scale + input_zero_point), tf.uint8)"
   ]
  },
  {
   "cell_type": "code",
   "execution_count": 15,
   "metadata": {},
   "outputs": [],
   "source": [
    "def dequantized_output(output_tensor, output_scale, output_zero_point):\n",
    "    return tf.cast(((output_tensor - output_zero_point) * output_scale), tf.float32)"
   ]
  },
  {
   "cell_type": "code",
   "execution_count": 16,
   "metadata": {},
   "outputs": [],
   "source": [
    "def jaccard_coefficient(y_true, y_pred, smooth=1.):\n",
    "    y_true_flatten = tf.reshape(y_true, [-1])\n",
    "    y_pred_flatten = tf.reshape(y_pred, [-1])\n",
    "    intersection = tf.reduce_sum(y_true_flatten * y_pred_flatten)\n",
    "    union = tf.reduce_sum(y_true_flatten) + tf.reduce_sum(y_pred_flatten) - intersection\n",
    "    return (intersection + smooth) / (union + smooth)"
   ]
  },
  {
   "cell_type": "code",
   "execution_count": 42,
   "metadata": {},
   "outputs": [],
   "source": [
    "def inf_per_img(img_path, interpreter, conf_threshold=0.5):\n",
    "    # get details\n",
    "    input_details = interpreter.get_input_details()\n",
    "    output_details = interpreter.get_output_details()\n",
    "    input_scale, input_zero_point = input_details[0]['quantization']\n",
    "    output_scale, output_zero_point = output_details[0]['quantization']\n",
    "    \n",
    "    # prepare input\n",
    "    intput_tensor = prepare_input_img(img_path)\n",
    "    intput_tensor = quantized_input(intput_tensor, input_scale, input_zero_point)\n",
    "    \n",
    "    # inf\n",
    "    interpreter.set_tensor(input_details[0]['index'], intput_tensor)\n",
    "    interpreter.invoke()\n",
    "    \n",
    "    # get output\n",
    "    output_data = interpreter.get_tensor(output_details[0]['index'])\n",
    "    output_data = dequantized_output(output_data, output_scale, output_zero_point)\n",
    "    output_data = tf.squeeze(output_data)\n",
    "    output_data = tf.where(output_data > conf_threshold, 1., 0)\n",
    "    return output_data"
   ]
  },
  {
   "cell_type": "code",
   "execution_count": 43,
   "metadata": {},
   "outputs": [],
   "source": [
    "def read_mask(img_path):\n",
    "    mask_path = re.sub(\"images\", \"labels\", img_path)\n",
    "    mask_path = re.sub(\".jpg\", \".png\", mask_path)\n",
    "    mask = tf.io.read_file(mask_path)\n",
    "    mask = tf.image.decode_image(mask, channels=1, dtype=tf.float32)\n",
    "    mask = tf.image.resize_with_pad(mask, target_height=128, target_width=128, method='bilinear')\n",
    "    mask = tf.where(mask > 0, 1., 0)\n",
    "    return mask"
   ]
  },
  {
   "cell_type": "code",
   "execution_count": 44,
   "metadata": {},
   "outputs": [],
   "source": [
    "model_path = \"/app/seg/jaccard_edgetpu_model_edgetpu.tflite\"\n",
    "interpreter = edgetpu.make_interpreter(model_path)\n",
    "interpreter.allocate_tensors()"
   ]
  },
  {
   "cell_type": "code",
   "execution_count": 46,
   "metadata": {},
   "outputs": [
    {
     "name": "stdout",
     "output_type": "stream",
     "text": [
      "tf.Tensor(0.8150738, shape=(), dtype=float32)\n",
      "0.6647173489278753\n"
     ]
    }
   ],
   "source": [
    "data_dir = \"/app/seg/data/images/train\"\n",
    "imgs_path = glob.glob(f\"{data_dir}/*.jpg\")\n",
    "score = 0.\n",
    "imgs_above_80 = 0\n",
    "for i in range(len(imgs_path)):\n",
    "    img_path = imgs_path[i]\n",
    "#     start = time.time()\n",
    "    output_data = inf_per_img(img_path, interpreter)\n",
    "#     end = time.time()\n",
    "#     print(f\"inf time: {(end - start) * 1000}ms\")\n",
    "    mask = read_mask(img_path)\n",
    "    jaccard_score = jaccard_coefficient(mask, output_data)\n",
    "    if jaccard_score >= 0.8:\n",
    "        imgs_above_80 += 1\n",
    "    score += jaccard_score\n",
    "\n",
    "mean_score = score / len(imgs_path)\n",
    "above_80 = imgs_above_80 / len(imgs_path)\n",
    "print(mean_score)\n",
    "print(above_80)"
   ]
  },
  {
   "cell_type": "code",
   "execution_count": 23,
   "metadata": {},
   "outputs": [],
   "source": [
    "import matplotlib.pyplot as plt\n",
    "\n",
    "def visualize(original, augmented, figure_size=(10,5)):\n",
    "    fig = plt.figure(figsize=figure_size)\n",
    "    plt.subplot(1,2,1)\n",
    "    plt.title('Original image')\n",
    "    plt.imshow(original)\n",
    "    plt.axis(\"off\")\n",
    "\n",
    "    plt.subplot(1,2,2)\n",
    "    plt.title('Augmented image')\n",
    "    plt.imshow(augmented)\n",
    "    plt.axis(\"off\")"
   ]
  },
  {
   "cell_type": "code",
   "execution_count": 27,
   "metadata": {},
   "outputs": [
    {
     "data": {
      "image/png": "[encoded data removed]",
      "text/plain": [
       "<Figure size 720x360 with 2 Axes>"
      ]
     },
     "metadata": {
      "needs_background": "light"
     },
     "output_type": "display_data"
    }
   ],
   "source": [
    "visualize(mask, output_data)"
   ]
  },
  {
   "cell_type": "code",
   "execution_count": null,
   "metadata": {},
   "outputs": [],
   "source": []
  }
 ],
 "metadata": {
  "kernelspec": {
   "display_name": "Python 3",
   "language": "python",
   "name": "python3"
  },
  "language_info": {
   "codemirror_mode": {
    "name": "ipython",
    "version": 3
   },
   "file_extension": ".py",
   "mimetype": "text/x-python",
   "name": "python",
   "nbconvert_exporter": "python",
   "pygments_lexer": "ipython3",
   "version": "3.6.9"
  }
 },
 "nbformat": 4,
 "nbformat_minor": 4
}
